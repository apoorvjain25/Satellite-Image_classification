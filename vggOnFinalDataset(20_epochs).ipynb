{
 "cells": [
  {
   "cell_type": "code",
   "execution_count": 2,
   "metadata": {
    "collapsed": true
   },
   "outputs": [],
   "source": [
    "image_size = 224"
   ]
  },
  {
   "cell_type": "code",
   "execution_count": 3,
   "metadata": {},
   "outputs": [
    {
     "name": "stderr",
     "output_type": "stream",
     "text": [
      "C:\\Users\\LENOVO\\Anaconda3\\lib\\site-packages\\h5py\\__init__.py:34: FutureWarning: Conversion of the second argument of issubdtype from `float` to `np.floating` is deprecated. In future, it will be treated as `np.float64 == np.dtype(float).type`.\n",
      "  from ._conv import register_converters as _register_converters\n",
      "Using TensorFlow backend.\n"
     ]
    }
   ],
   "source": [
    "from keras.preprocessing.image import ImageDataGenerator\n",
    "import numpy\n",
    "import scipy"
   ]
  },
  {
   "cell_type": "code",
   "execution_count": 4,
   "metadata": {
    "collapsed": true
   },
   "outputs": [],
   "source": [
    "from keras.applications import VGG16\n",
    "#Load the VGG model\n",
    "vgg_conv = VGG16(weights='imagenet', include_top=False, input_shape=(image_size, image_size, 3))"
   ]
  },
  {
   "cell_type": "code",
   "execution_count": 5,
   "metadata": {},
   "outputs": [
    {
     "name": "stdout",
     "output_type": "stream",
     "text": [
      "<keras.engine.input_layer.InputLayer object at 0x0000017CBDD90E80> False\n",
      "<keras.layers.convolutional.Conv2D object at 0x0000017CBDDA3588> False\n",
      "<keras.layers.convolutional.Conv2D object at 0x0000017CBDDA33C8> False\n",
      "<keras.layers.pooling.MaxPooling2D object at 0x0000017CBDDC6EF0> False\n",
      "<keras.layers.convolutional.Conv2D object at 0x0000017CBDDC67B8> False\n",
      "<keras.layers.convolutional.Conv2D object at 0x0000017CBDDE7278> False\n",
      "<keras.layers.pooling.MaxPooling2D object at 0x0000017CBDDFD9E8> False\n",
      "<keras.layers.convolutional.Conv2D object at 0x0000017CBDE187B8> False\n",
      "<keras.layers.convolutional.Conv2D object at 0x0000017CBDE347F0> False\n",
      "<keras.layers.convolutional.Conv2D object at 0x0000017CBDE4C668> False\n",
      "<keras.layers.pooling.MaxPooling2D object at 0x0000017CBDE65940> False\n",
      "<keras.layers.convolutional.Conv2D object at 0x0000017CBDE81780> False\n",
      "<keras.layers.convolutional.Conv2D object at 0x0000017CBDE997B8> False\n",
      "<keras.layers.convolutional.Conv2D object at 0x0000017CBDEB6320> False\n",
      "<keras.layers.pooling.MaxPooling2D object at 0x0000017CBDECC940> False\n",
      "<keras.layers.convolutional.Conv2D object at 0x0000017CBDEE8780> True\n",
      "<keras.layers.convolutional.Conv2D object at 0x0000017CBDEFF7B8> True\n",
      "<keras.layers.convolutional.Conv2D object at 0x0000017CBDF18358> True\n",
      "<keras.layers.pooling.MaxPooling2D object at 0x0000017CBDF32A20> True\n"
     ]
    }
   ],
   "source": [
    "# Freeze the layers except the last 4 layers\n",
    "for layer in vgg_conv.layers[:-4]:\n",
    "    layer.trainable = False\n",
    "#Check the trainable status of the individual layers\n",
    "for layer in vgg_conv.layers:\n",
    "    print(layer, layer.trainable)"
   ]
  },
  {
   "cell_type": "code",
   "execution_count": 6,
   "metadata": {},
   "outputs": [
    {
     "name": "stdout",
     "output_type": "stream",
     "text": [
      "_________________________________________________________________\n",
      "Layer (type)                 Output Shape              Param #   \n",
      "=================================================================\n",
      "vgg16 (Model)                (None, 7, 7, 512)         14714688  \n",
      "_________________________________________________________________\n",
      "flatten_1 (Flatten)          (None, 25088)             0         \n",
      "_________________________________________________________________\n",
      "dense_1 (Dense)              (None, 500)               12544500  \n",
      "_________________________________________________________________\n",
      "dropout_1 (Dropout)          (None, 500)               0         \n",
      "_________________________________________________________________\n",
      "dense_2 (Dense)              (None, 19)                9519      \n",
      "=================================================================\n",
      "Total params: 27,268,707\n",
      "Trainable params: 19,633,443\n",
      "Non-trainable params: 7,635,264\n",
      "_________________________________________________________________\n"
     ]
    }
   ],
   "source": [
    "from keras import models\n",
    "from keras import layers\n",
    "from keras import optimizers\n",
    " \n",
    "# Create the model\n",
    "model = models.Sequential()\n",
    " \n",
    "# Add the vgg convolutional base model\n",
    "model.add(vgg_conv)\n",
    " \n",
    "# Add new layers\n",
    "model.add(layers.Flatten())\n",
    "model.add(layers.Dense(500, activation='relu'))\n",
    "model.add(layers.Dropout(0.5))\n",
    "model.add(layers.Dense(19, activation='softmax'))\n",
    " \n",
    "# Show a summary of the model. Check the number of trainable parameters\n",
    "model.summary()"
   ]
  },
  {
   "cell_type": "code",
   "execution_count": 7,
   "metadata": {},
   "outputs": [
    {
     "name": "stdout",
     "output_type": "stream",
     "text": [
      "Found 830 images belonging to 19 classes.\n",
      "Found 103 images belonging to 19 classes.\n"
     ]
    }
   ],
   "source": [
    "train_datagen = ImageDataGenerator(rescale=1./255,\n",
    "      rotation_range=20,\n",
    "      width_shift_range=0.2,\n",
    "      height_shift_range=0.2,\n",
    "      horizontal_flip=True,\n",
    "      fill_mode='nearest')\n",
    " \n",
    "validation_datagen = ImageDataGenerator(rescale=1./255)\n",
    " \n",
    "# Change the batchsize according to your system RAM\n",
    "train_batchsize = 1\n",
    "val_batchsize = 1\n",
    "# train_data='C:/Users/LENOVO/MajorProject/'\n",
    "# val_data='C:/Users/LENOVO/MajorProject/val'\n",
    "train_generator = train_datagen.flow_from_directory(\n",
    "        directory=r'SplitData/train_data/',\n",
    "        target_size=(image_size, image_size),\n",
    "        batch_size=train_batchsize,\n",
    "        classes=[\"airport\",\"beach\",\"bridge\",\"commercial\",\"desert\",\"farmland\",\"footballfield\",\"forest\",\"industrial\",\"meadow\",\n",
    "                \"mountain\",\"park\",\"parking\",\"pond\",\"port\",\"railwaystation\",\"residential\",\"river\",\"viaduct\"],\n",
    "        class_mode='categorical')\n",
    " \n",
    "validation_generator = validation_datagen.flow_from_directory(\n",
    "        directory=r'SplitData/val_data',\n",
    "        target_size=(image_size, image_size),\n",
    "        batch_size=val_batchsize,\n",
    "        classes=[\"airport\",\"beach\",\"bridge\",\"commercial\",\"desert\",\"farmland\",\"footballfield\",\"forest\",\"industrial\",\"meadow\",\n",
    "                \"mountain\",\"park\",\"parking\",\"pond\",\"port\",\"railwaystation\",\"residential\",\"river\",\"viaduct\"],\n",
    "        class_mode='categorical',\n",
    "        shuffle=False)"
   ]
  },
  {
   "cell_type": "code",
   "execution_count": 8,
   "metadata": {
    "collapsed": true
   },
   "outputs": [],
   "source": [
    "# Compile the model\n",
    "model.compile(loss='categorical_crossentropy',\n",
    "              optimizer=optimizers.RMSprop(lr=1e-4),\n",
    "              metrics=['acc'])"
   ]
  },
  {
   "cell_type": "code",
   "execution_count": 10,
   "metadata": {},
   "outputs": [
    {
     "name": "stdout",
     "output_type": "stream",
     "text": [
      "Epoch 1/20\n",
      "830/830 [==============================] - 193s 232ms/step - loss: 1.8947 - acc: 0.3855 - val_loss: 0.9984 - val_acc: 0.6602\n",
      "Epoch 2/20\n",
      "830/830 [==============================] - 192s 231ms/step - loss: 1.1687 - acc: 0.6157 - val_loss: 1.4338 - val_acc: 0.5631\n",
      "Epoch 3/20\n",
      "830/830 [==============================] - 192s 231ms/step - loss: 0.8444 - acc: 0.7434 - val_loss: 0.5983 - val_acc: 0.8155\n",
      "Epoch 4/20\n",
      "830/830 [==============================] - 192s 231ms/step - loss: 0.9375 - acc: 0.7578 - val_loss: 0.8705 - val_acc: 0.8155\n",
      "Epoch 5/20\n",
      "830/830 [==============================] - 192s 231ms/step - loss: 0.9081 - acc: 0.8072 - val_loss: 1.8186 - val_acc: 0.7767\n",
      "Epoch 6/20\n",
      "830/830 [==============================] - 192s 231ms/step - loss: 0.8716 - acc: 0.8241 - val_loss: 2.1359 - val_acc: 0.7670\n",
      "Epoch 7/20\n",
      "830/830 [==============================] - 192s 231ms/step - loss: 0.8644 - acc: 0.8325 - val_loss: 2.2862 - val_acc: 0.7573\n",
      "Epoch 8/20\n",
      "830/830 [==============================] - 192s 231ms/step - loss: 1.0151 - acc: 0.8289 - val_loss: 2.2955 - val_acc: 0.7670\n",
      "Epoch 9/20\n",
      "830/830 [==============================] - 192s 231ms/step - loss: 0.9546 - acc: 0.8578 - val_loss: 1.3582 - val_acc: 0.8544\n",
      "Epoch 10/20\n",
      "830/830 [==============================] - 192s 231ms/step - loss: 0.9190 - acc: 0.8723 - val_loss: 1.4200 - val_acc: 0.8447\n",
      "Epoch 11/20\n",
      "830/830 [==============================] - 192s 231ms/step - loss: 1.0417 - acc: 0.8518 - val_loss: 1.7385 - val_acc: 0.8641\n",
      "Epoch 12/20\n",
      "830/830 [==============================] - 192s 231ms/step - loss: 1.1150 - acc: 0.8289 - val_loss: 0.9576 - val_acc: 0.8932\n",
      "Epoch 13/20\n",
      "830/830 [==============================] - 192s 231ms/step - loss: 1.4116 - acc: 0.8313 - val_loss: 0.7519 - val_acc: 0.9223\n",
      "Epoch 14/20\n",
      "830/830 [==============================] - 192s 231ms/step - loss: 1.2939 - acc: 0.8639 - val_loss: 1.3703 - val_acc: 0.8447\n",
      "Epoch 15/20\n",
      "830/830 [==============================] - 192s 231ms/step - loss: 0.7924 - acc: 0.9084 - val_loss: 1.5519 - val_acc: 0.8641\n",
      "Epoch 16/20\n",
      "830/830 [==============================] - 192s 231ms/step - loss: 0.8648 - acc: 0.9012 - val_loss: 1.0765 - val_acc: 0.8932\n",
      "Epoch 17/20\n",
      "830/830 [==============================] - 192s 231ms/step - loss: 1.0724 - acc: 0.8892 - val_loss: 1.6129 - val_acc: 0.8835\n",
      "Epoch 18/20\n",
      "830/830 [==============================] - 192s 231ms/step - loss: 1.0223 - acc: 0.8976 - val_loss: 2.2192 - val_acc: 0.8252\n",
      "Epoch 19/20\n",
      "830/830 [==============================] - 191s 231ms/step - loss: 1.3022 - acc: 0.8867 - val_loss: 2.5750 - val_acc: 0.8252\n",
      "Epoch 20/20\n",
      "830/830 [==============================] - 192s 231ms/step - loss: 1.1279 - acc: 0.8855 - val_loss: 0.7167 - val_acc: 0.9417\n"
     ]
    }
   ],
   "source": [
    "\n",
    "# Train the model\n",
    "history = model.fit_generator(\n",
    "      train_generator,\n",
    "      steps_per_epoch=train_generator.samples/train_generator.batch_size ,\n",
    "      epochs=20,\n",
    "      validation_data=validation_generator,\n",
    "      validation_steps=validation_generator.samples/validation_generator.batch_size,\n",
    "      verbose=1)\n",
    " \n"
   ]
  },
  {
   "cell_type": "code",
   "execution_count": 11,
   "metadata": {
    "collapsed": true
   },
   "outputs": [],
   "source": [
    "# Save the model\n",
    "model.save('small_last20.h5')"
   ]
  },
  {
   "cell_type": "code",
   "execution_count": 12,
   "metadata": {
    "collapsed": true
   },
   "outputs": [],
   "source": [
    "import matplotlib.pyplot as plt"
   ]
  },
  {
   "cell_type": "code",
   "execution_count": 13,
   "metadata": {},
   "outputs": [
    {
     "data": {
      "image/png": "[encoded data removed]",
      "text/plain": [
       "<Figure size 432x288 with 1 Axes>"
      ]
     },
     "metadata": {},
     "output_type": "display_data"
    },
    {
     "data": {
      "image/png": "[encoded data removed]",
      "text/plain": [
       "<Figure size 432x288 with 1 Axes>"
      ]
     },
     "metadata": {},
     "output_type": "display_data"
    }
   ],
   "source": [
    "acc = history.history['acc']\n",
    "val_acc = history.history['val_acc']\n",
    "loss = history.history['loss']\n",
    "val_loss = history.history['val_loss']\n",
    " \n",
    "epochs = range(len(acc))\n",
    " \n",
    "plt.plot(epochs, acc, 'b', label='Training acc')\n",
    "plt.plot(epochs, val_acc, 'r', label='Validation acc')\n",
    "plt.title('Training and validation accuracy')\n",
    "plt.legend()\n",
    " \n",
    "plt.figure()\n",
    " \n",
    "plt.plot(epochs, loss, 'b', label='Training loss')\n",
    "plt.plot(epochs, val_loss, 'r', label='Validation loss')\n",
    "plt.title('Training and validation loss')\n",
    "plt.legend()\n",
    " \n",
    "plt.show()"
   ]
  }
 ],
 "metadata": {
  "kernelspec": {
   "display_name": "Python 3",
   "language": "python",
   "name": "python3"
  },
  "language_info": {
   "codemirror_mode": {
    "name": "ipython",
    "version": 3
   },
   "file_extension": ".py",
   "mimetype": "text/x-python",
   "name": "python",
   "nbconvert_exporter": "python",
   "pygments_lexer": "ipython3",
   "version": "3.6.2"
  }
 },
 "nbformat": 4,
 "nbformat_minor": 2
}
